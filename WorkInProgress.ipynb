{
  "cells": [
    {
      "cell_type": "markdown",
      "source": [
        "# 檢查系統與環境版本"
      ],
      "metadata": {
        "id": "CBeMknKn6MfK"
      },
      "id": "CBeMknKn6MfK"
    },
    {
      "cell_type": "code",
      "execution_count": null,
      "id": "4f50d11a",
      "metadata": {
        "colab": {
          "base_uri": "https://localhost:8080/"
        },
        "id": "4f50d11a",
        "outputId": "1649ac05-6e9a-406b-eb4c-7cb18a57897b",
        "scrolled": false
      },
      "outputs": [
        {
          "output_type": "stream",
          "name": "stdout",
          "text": [
            "jupyter core     : 4.5.0\n",
            "jupyter-notebook : 5.2.2\n",
            "qtconsole        : 4.5.2\n",
            "ipython          : 5.5.0\n",
            "ipykernel        : 4.10.1\n",
            "jupyter client   : 5.3.1\n",
            "jupyter lab      : not installed\n",
            "nbconvert        : 5.5.0\n",
            "ipywidgets       : 7.5.0\n",
            "nbformat         : 4.4.0\n",
            "traitlets        : 4.3.2\n"
          ]
        }
      ],
      "source": [
        "'''顯示Jupyter Notebook及其自帶應用環境的系統版本'''\n",
        "!jupyter --version"
      ]
    },
    {
      "cell_type": "code",
      "execution_count": null,
      "id": "52370ed9",
      "metadata": {
        "colab": {
          "base_uri": "https://localhost:8080/"
        },
        "id": "52370ed9",
        "outputId": "72386c1a-3040-4f4c-cd66-5c42efc147f4"
      },
      "outputs": [
        {
          "output_type": "stream",
          "name": "stdout",
          "text": [
            "Python: 3.7.12\n"
          ]
        }
      ],
      "source": [
        "'''顯示Python系統版本'''\n",
        "from platform import python_version\n",
        "\n",
        "print(\"Python:\", python_version())"
      ]
    },
    {
      "cell_type": "code",
      "execution_count": null,
      "id": "6c156c17",
      "metadata": {
        "scrolled": true,
        "colab": {
          "base_uri": "https://localhost:8080/"
        },
        "id": "6c156c17",
        "outputId": "b88a4701-ab44-4fa3-eb25-227ef967967b"
      },
      "outputs": [
        {
          "output_type": "stream",
          "name": "stdout",
          "text": [
            "Name: numpy\n",
            "Version: 1.21.5\n",
            "Summary: NumPy is the fundamental package for array computing with Python.\n",
            "Home-page: https://www.numpy.org\n",
            "Author: Travis E. Oliphant et al.\n",
            "Author-email: None\n",
            "License: BSD\n",
            "Location: /usr/local/lib/python3.7/dist-packages\n",
            "Requires: \n",
            "Required-by: xgboost, xarray, wordcloud, torchvision, torchtext, tifffile, thinc, Theano-PyMC, tensorflow, tensorflow-probability, tensorflow-hub, tensorflow-datasets, tensorboard, tables, statsmodels, spacy, sklearn-pandas, seaborn, scs, scipy, scikit-learn, scikit-image, resampy, qdldl, PyWavelets, python-louvain, pystan, pysndfile, pymc3, pyerfa, pyemd, pycocotools, pyarrow, plotnine, patsy, pandas, osqp, opt-einsum, opencv-python, opencv-contrib-python, numexpr, numba, nibabel, netCDF4, moviepy, mlxtend, mizani, missingno, matplotlib, matplotlib-venn, lightgbm, librosa, Keras-Preprocessing, kapre, jpeg4py, jaxlib, jax, imgaug, imbalanced-learn, imageio, hyperopt, holoviews, h5py, gym, gensim, folium, fix-yahoo-finance, fbprophet, fastdtw, fastai, fa2, ecos, daft, cvxpy, cupy-cuda111, cufflinks, cmdstanpy, cftime, Bottleneck, bokeh, blis, autograd, atari-py, astropy, arviz, altair, albumentations\n"
          ]
        }
      ],
      "source": [
        "'''顯示資料庫numpy詳細資料及版本'''\n",
        "!pip show numpy"
      ]
    },
    {
      "cell_type": "code",
      "execution_count": null,
      "id": "51e2e2a3",
      "metadata": {
        "scrolled": false,
        "colab": {
          "base_uri": "https://localhost:8080/"
        },
        "id": "51e2e2a3",
        "outputId": "11214c4b-fdc9-420c-913e-7db542a2a123"
      },
      "outputs": [
        {
          "output_type": "stream",
          "name": "stdout",
          "text": [
            "Name: opencv-python\n",
            "Version: 4.1.2.30\n",
            "Summary: Wrapper package for OpenCV python bindings.\n",
            "Home-page: https://github.com/skvark/opencv-python\n",
            "Author: None\n",
            "Author-email: None\n",
            "License: MIT\n",
            "Location: /usr/local/lib/python3.7/dist-packages\n",
            "Requires: numpy\n",
            "Required-by: imgaug, dopamine-rl, albumentations\n"
          ]
        }
      ],
      "source": [
        "'''顯示資料庫OpenCV詳細資料及版本'''\n",
        "!pip show opencv-python"
      ]
    },
    {
      "cell_type": "code",
      "execution_count": null,
      "id": "9d1c9b4a",
      "metadata": {
        "scrolled": false,
        "colab": {
          "base_uri": "https://localhost:8080/"
        },
        "id": "9d1c9b4a",
        "outputId": "70cee687-daa1-42a7-bce0-749ce28de9f3"
      },
      "outputs": [
        {
          "output_type": "stream",
          "name": "stdout",
          "text": [
            "Name: matplotlib\n",
            "Version: 3.2.2\n",
            "Summary: Python plotting package\n",
            "Home-page: https://matplotlib.org\n",
            "Author: John D. Hunter, Michael Droettboom\n",
            "Author-email: matplotlib-users@python.org\n",
            "License: PSF\n",
            "Location: /usr/local/lib/python3.7/dist-packages\n",
            "Requires: python-dateutil, cycler, kiwisolver, numpy, pyparsing\n",
            "Required-by: seaborn, scikit-image, pycocotools, plotnine, pandas-profiling, mlxtend, mizani, missingno, matplotlib-venn, keras-vis, imgaug, fbprophet, fastai, descartes, daft, arviz\n"
          ]
        }
      ],
      "source": [
        "'''顯示資料庫matplotlib詳細資料及版本'''\n",
        "!pip show matplotlib"
      ]
    },
    {
      "cell_type": "code",
      "execution_count": null,
      "id": "ead77da9",
      "metadata": {
        "scrolled": true,
        "colab": {
          "base_uri": "https://localhost:8080/"
        },
        "id": "ead77da9",
        "outputId": "4fc8741e-eaa6-47eb-ad6b-c0d0d7f144a5"
      },
      "outputs": [
        {
          "output_type": "stream",
          "name": "stdout",
          "text": [
            "Name: pandas\n",
            "Version: 1.3.5\n",
            "Summary: Powerful data structures for data analysis, time series, and statistics\n",
            "Home-page: https://pandas.pydata.org\n",
            "Author: The Pandas Development Team\n",
            "Author-email: pandas-dev@python.org\n",
            "License: BSD-3-Clause\n",
            "Location: /usr/local/lib/python3.7/dist-packages\n",
            "Requires: numpy, pytz, python-dateutil\n",
            "Required-by: xarray, vega-datasets, statsmodels, sklearn-pandas, seaborn, pymc3, plotnine, pandas-profiling, pandas-gbq, pandas-datareader, mlxtend, mizani, holoviews, gspread-dataframe, google-colab, fix-yahoo-finance, fbprophet, fastai, cufflinks, cmdstanpy, arviz, altair\n"
          ]
        }
      ],
      "source": [
        "'''顯示資料庫pandas詳細資料及版本'''\n",
        "!pip show pandas"
      ]
    },
    {
      "cell_type": "markdown",
      "source": [
        "# 正文開始"
      ],
      "metadata": {
        "id": "O3qGtbDf6RWh"
      },
      "id": "O3qGtbDf6RWh"
    },
    {
      "cell_type": "markdown",
      "source": [
        "## 影像處理"
      ],
      "metadata": {
        "id": "x67SWcrO8O9f"
      },
      "id": "x67SWcrO8O9f"
    },
    {
      "cell_type": "code",
      "execution_count": null,
      "id": "127cea0a",
      "metadata": {
        "id": "127cea0a"
      },
      "outputs": [],
      "source": [
        "from cv2 import INTER_AREA, INTER_CUBIC, resize, imwrite\n",
        "\n",
        "'''更改影像尺寸'''\n",
        "def to_size(image, size):\n",
        "    height, width = image.shape[:2]\n",
        "    scale = height / size\n",
        "    dim = (int(width/scale), size)\n",
        "    \n",
        "    resizeMode = None\n",
        "    if scale < 1:\n",
        "        resizeMode = INTER_AREA\n",
        "    if scale > 1:\n",
        "        resizeMode = INTER_CUBIC\n",
        "\n",
        "    if resizeMode:\n",
        "        image = resize(image, dim, interpolation=resizeMode)\n",
        "\n",
        "    return image;"
      ]
    },
    {
      "cell_type": "code",
      "execution_count": null,
      "id": "a95e5585",
      "metadata": {
        "id": "a95e5585"
      },
      "outputs": [],
      "source": [
        "from cv2 import cvtColor, COLOR_BGR2GRAY, fastNlMeansDenoising\n",
        "\n",
        "'''圖像降躁'''\n",
        "def to_denoise(img):\n",
        "    \n",
        "    denoisedImage = fastNlMeansDenoising(img, h=10)\n",
        "    \n",
        "    return denoisedImage"
      ]
    },
    {
      "cell_type": "code",
      "execution_count": null,
      "id": "dcd48392",
      "metadata": {
        "id": "dcd48392"
      },
      "outputs": [],
      "source": [
        "'''影像二質化(關係演算法)'''\n",
        "\n",
        "from cv2 import adaptiveThreshold, ADAPTIVE_THRESH_MEAN_C, THRESH_BINARY_INV\n",
        "\n",
        "def to_adaptivebinary(img, ref=11):\n",
        "    \n",
        "    binaryImage = adaptiveThreshold(\n",
        "        img, \n",
        "        255, \n",
        "        ADAPTIVE_THRESH_MEAN_C, \n",
        "        THRESH_BINARY_INV, \n",
        "        ref,\n",
        "        2\n",
        "    )\n",
        "\n",
        "    return binaryImage\n",
        "\n",
        "'''影像二值化'''\n",
        "\n",
        "from cv2 import threshold, THRESH_BINARY_INV, THRESH_BINARY\n",
        "\n",
        "def to_binary(img, clp=230, mode=THRESH_BINARY_INV):\n",
        "    \n",
        "    binary = threshold(img, clp, 255, mode)[1]\n",
        "    \n",
        "    return binary"
      ]
    },
    {
      "cell_type": "code",
      "execution_count": null,
      "id": "c9c8fc34",
      "metadata": {
        "id": "c9c8fc34"
      },
      "outputs": [],
      "source": [
        "from cv2 import dilate\n",
        "'''影像膨脹化'''\n",
        "def to_dilate(image, ker=(3, 3)):\n",
        "    \n",
        "    dilation = dilate(image, ker)\n",
        "    \n",
        "    return dilation"
      ]
    },
    {
      "cell_type": "markdown",
      "source": [
        "以下影像處理的函式有`imwrite`程式碼！\n",
        "\n",
        "如果是在colab的環境下`imwrite`程式會輸出處理完的圖片到`excelImages`資料夾裡，所以如果你下載這份Notebook檔案到colab執行的話，先建立一個資料夾叫做`excelImages`就可以查看切割結果喔！\n",
        "\n",
        "如果不是用colab例如Jupyter Notebook的話，那請把`/content/excelImages`更改為你想要儲存到的資料夾路徑。"
      ],
      "metadata": {
        "id": "hq69849H6jIY"
      },
      "id": "hq69849H6jIY"
    },
    {
      "cell_type": "markdown",
      "source": [
        "這裡參考了大大「我想问问天」的程式碼，筆者也示範了如何切割表格的方法，這裡沿用筆者的概念運用在我們的專案系統上。\n",
        "\n",
        "參考網址：https://juejin.cn/post/6844904078032666631"
      ],
      "metadata": {
        "id": "IMOqWZcn9s2O"
      },
      "id": "IMOqWZcn9s2O"
    },
    {
      "cell_type": "code",
      "execution_count": null,
      "id": "6b85c581",
      "metadata": {
        "id": "6b85c581"
      },
      "outputs": [],
      "source": [
        "'''取得僅有線條的影像'''\n",
        "\n",
        "from cv2 import getStructuringElement, MORPH_RECT, morphologyEx, MORPH_OPEN, MORPH_CLOSE, imwrite\n",
        "from pathlib import Path as path\n",
        "\n",
        "def to_lines(img):\n",
        "    \n",
        "    rows, cols = img.shape # 圖片長,寬\n",
        "    \n",
        "    '''進行垂直開運算，取得直線'''\n",
        "    kernel = getStructuringElement(MORPH_RECT, (1, rows // 20))\n",
        "    dilated_row = morphologyEx(img, MORPH_OPEN, kernel) # 影像處理結果(直線)\n",
        "    imwrite(r\"/content/excelImages/_2excel_vertical_lin.png\", dilated_row)\n",
        "    \n",
        "    '''進行水平開運算，取得橫線'''\n",
        "    kernel = getStructuringElement(MORPH_RECT, (cols // 40, 1))\n",
        "    dilated_col = morphologyEx(img, MORPH_OPEN, kernel) # 影像處理結果(橫線)\n",
        "    imwrite(r\"/content/excelImages/_1excel_horizontal_line.png\", dilated_col)\n",
        "    \n",
        "    return (dilated_row, dilated_col)"
      ]
    },
    {
      "cell_type": "code",
      "execution_count": null,
      "id": "f1b60c78",
      "metadata": {
        "id": "f1b60c78"
      },
      "outputs": [],
      "source": [
        "'''取得僅有文字的影像'''\n",
        "\n",
        "from cv2 import add, subtract\n",
        "\n",
        "def to_digits(img):\n",
        "    \n",
        "    height, width = img.shape[:2]\n",
        "    \n",
        "    # 影像二值化\n",
        "    binary = to_adaptivebinary(img)\n",
        "    \n",
        "    # 取得直線影像與橫線影像\n",
        "    dilated_row, dilated_col = to_lines(binary)\n",
        "    \n",
        "    '''直線橫線圖像相加，取得表格輪廓'''\n",
        "    excel = add(dilated_col, dilated_row)\n",
        "    imwrite(r\"/content/excelImages/_3excel_add.png\", excel)\n",
        "    \n",
        "\n",
        "    '''二值化圖像與表格輪廓相減，移除表格輪廓'''\n",
        "    digits = subtract(binary, excel)\n",
        "    imwrite(r\"/content/excelImages/_5excel_subtract.png\", digits)\n",
        "\n",
        "    '''進行開運算，去除雜訊'''\n",
        "    kernelSize = (2, 2)\n",
        "    new_kernel = getStructuringElement(MORPH_RECT, kernelSize)\n",
        "    morphOpen = morphologyEx(digits, MORPH_OPEN, new_kernel)\n",
        "    imwrite(r\"/content/excelImages/_6excel_morphologyEx.png\", morphOpen)\n",
        "    \n",
        "    '''進行閉運算，修復斷裂文字'''\n",
        "    kernelSize = (2, 2)\n",
        "    new_kernel = getStructuringElement(MORPH_RECT, kernelSize)\n",
        "    morphClose = morphologyEx(morphOpen, MORPH_CLOSE, new_kernel)\n",
        "    imwrite(r\"/content/excelImages/_7excel_morphologyExCLOSE.png\", morphClose)\n",
        "    \n",
        "    return morphClose"
      ]
    },
    {
      "cell_type": "code",
      "execution_count": null,
      "id": "c1674bd0",
      "metadata": {
        "id": "c1674bd0"
      },
      "outputs": [],
      "source": [
        "'''取得直線橫線相交點'''\n",
        "\n",
        "from cv2 import bitwise_and\n",
        "from numpy import where\n",
        "\n",
        "def get_intersect(image):\n",
        "    \n",
        "    # 影像二值化\n",
        "    binary = to_adaptivebinary(image)\n",
        "    \n",
        "    # 取得直線影像與橫線影像\n",
        "    dilated_row, dilated_col = to_lines(binary)\n",
        "    \n",
        "    '''直線橫線圖像相減，取得直線與橫線的交點'''\n",
        "    bitwiseAnd = bitwise_and(dilated_col, dilated_row)\n",
        "    imwrite(\"/content/excelImages/_3excel_bitwise_and.png\", bitwiseAnd)\n",
        "\n",
        "    return where(bitwiseAnd > 0)"
      ]
    },
    {
      "cell_type": "code",
      "execution_count": null,
      "id": "f3129e84",
      "metadata": {
        "id": "f3129e84"
      },
      "outputs": [],
      "source": [
        "'''篩選相交點座標'''\n",
        "\n",
        "from numpy import sort\n",
        "\n",
        "def get_corners(coordianate):\n",
        "    ys, xs = coordianate\n",
        "\n",
        "    y_point_arr = []\n",
        "    x_point_arr = []\n",
        "\n",
        "    \n",
        "    '''X軸'''\n",
        "    \n",
        "    # 排序座標數值，將接近值合併為一個座標\n",
        "    sort_x_point = sort(xs)\n",
        "    for i in range(len(sort_x_point) - 1):\n",
        "        if sort_x_point[i + 1] - sort_x_point[i] > 8:\n",
        "            x_point_arr.append(sort_x_point[i])\n",
        "        i = i + 1\n",
        "    x_point_arr.append(sort_x_point[i])\n",
        "\n",
        "    # 取得最大間距，合併低於一半的值\n",
        "    res=0\n",
        "    for i in range(1, len(x_point_arr)):\n",
        "        if x_point_arr[i]-x_point_arr[i-1] > res:\n",
        "            res = (x_point_arr[i]-x_point_arr[i-1])/2\n",
        "    \n",
        "    j=0\n",
        "    for i in range(len(x_point_arr)-1):\n",
        "        if abs(x_point_arr[i-j]-x_point_arr[i-j+1]) < res:\n",
        "            x_point_arr[i-j] = x_point_arr[i-j+1]\n",
        "            del x_point_arr[i-j+1]\n",
        "            j+=1\n",
        "    \n",
        "    '''Y軸'''\n",
        "    \n",
        "    # 排序座標數值，將接近值合併為一個座標\n",
        "    sort_y_point = sort(ys)\n",
        "    for i in range(len(sort_y_point) - 1):\n",
        "        if sort_y_point[i + 1] - sort_y_point[i] > 8:\n",
        "            y_point_arr.append(sort_y_point[i])\n",
        "        i = i + 1\n",
        "    y_point_arr.append(sort_y_point[i])\n",
        "        \n",
        "    # 取得最大間距，合併低於一半的值\n",
        "    res=0\n",
        "    for i in range(1, len(y_point_arr)):\n",
        "        if y_point_arr[i]-y_point_arr[i-1] > res:\n",
        "            res = (y_point_arr[i]-y_point_arr[i-1])/2\n",
        "    \n",
        "    j=0\n",
        "    for i in range(len(y_point_arr)-1):\n",
        "        if abs(y_point_arr[i-j]-y_point_arr[i-j+1]) < res:\n",
        "            y_point_arr[i-j] = y_point_arr[i-j+1]\n",
        "            del y_point_arr[i-j+1]\n",
        "            j+=1\n",
        "\n",
        "    return sorted(x_point_arr), sorted(y_point_arr)"
      ]
    },
    {
      "cell_type": "markdown",
      "source": [
        "這下面也有`imwrite`程式碼，但是這邊儲存的資料夾改到`croppedImages`了，為了避免和上面的影像處理搞混。"
      ],
      "metadata": {
        "id": "nUz2AxcM7goB"
      },
      "id": "nUz2AxcM7goB"
    },
    {
      "cell_type": "code",
      "execution_count": null,
      "id": "f4ddcbf9",
      "metadata": {
        "id": "f4ddcbf9"
      },
      "outputs": [],
      "source": [
        "'''圖像切割'''\n",
        "\n",
        "from cv2 import cvtColor, COLOR_BGR2GRAY\n",
        "\n",
        "def split_image(image):\n",
        "    \n",
        "    grayImage = cvtColor(image, COLOR_BGR2GRAY)\n",
        "    \n",
        "    croppedImages = []\n",
        "    \n",
        "    # 圖像降噪\n",
        "    denoisedImage = to_denoise(grayImage)\n",
        "    \n",
        "    # 取得數字影像\n",
        "    digitImage = to_digits(denoisedImage)\n",
        "    \n",
        "    # 取得裁切點\n",
        "    x_point_arr, y_point_arr = get_corners(get_intersect(denoisedImage))\n",
        "\n",
        "    # 裁切\n",
        "    for i in range(1, len(y_point_arr)):\n",
        "        temp = []\n",
        "        for j in range(1, len(x_point_arr)):\n",
        "            x1, x2, y1, y2 = map(int, (x_point_arr[j-1], x_point_arr[j],\\\n",
        "                                       y_point_arr[i-1], y_point_arr[i]))\n",
        "            cropImage = digitImage[y1:y2, x1:x2]\n",
        "            imwrite(r\"/content/croppedImages/{0}_{1}.png\".format(i, j), cropImage)\n",
        "            temp.append(cropImage)\n",
        "        croppedImages.append(temp)\n",
        "\n",
        "    return croppedImages"
      ]
    },
    {
      "cell_type": "markdown",
      "source": [
        "測試影像切割結果"
      ],
      "metadata": {
        "id": "uRmDZy-s6di7"
      },
      "id": "uRmDZy-s6di7"
    },
    {
      "cell_type": "code",
      "execution_count": 39,
      "id": "e0f48db1",
      "metadata": {
        "id": "e0f48db1",
        "scrolled": true,
        "colab": {
          "base_uri": "https://localhost:8080/"
        },
        "outputId": "a6d1cea2-a0ee-4465-8e70-a76265d87d60"
      },
      "outputs": [
        {
          "name": "stdout",
          "output_type": "stream",
          "text": [
            "/content/2021-12-28 00-40_.jpg\n"
          ]
        }
      ],
      "source": [
        "from cv2 import imread\n",
        "\n",
        "path = input()\n",
        "cp = split_image(imread(path))"
      ]
    },
    {
      "cell_type": "markdown",
      "source": [
        "我們在這裡參考了部落格作家「Taha Emara」的文字切割概念！透過標記數字的位置並切割，然後再將切割完的影像加上外框的概念。\n",
        "\n",
        "參考網址：http://emaraic.com/blog/multi-digit-segmentation-and-recognition"
      ],
      "metadata": {
        "id": "E9eSjWyq-Hws"
      },
      "id": "E9eSjWyq-Hws"
    },
    {
      "cell_type": "code",
      "execution_count": 40,
      "id": "2e50a532",
      "metadata": {
        "id": "2e50a532"
      },
      "outputs": [],
      "source": [
        "'''標記數字位置(顯示圖表)'''\n",
        "\n",
        "from cv2 import findContours, RETR_EXTERNAL, CHAIN_APPROX_SIMPLE, boundingRect, rectangle\n",
        "from matplotlib.pyplot import imshow, show, subplot, cm\n",
        "\n",
        "def get_digitsinfo(image):\n",
        "    \n",
        "    boundboxes = []\n",
        "    \n",
        "    image = image.copy()\n",
        "    \n",
        "    subplot(1, 4, 1)\n",
        "    imshow(image, cm.gray)\n",
        "    \n",
        "    subplot(1, 4, 2)\n",
        "    kernelSize = (2, 2)\n",
        "    new_kernel = getStructuringElement(MORPH_RECT, kernelSize)\n",
        "    final = morphologyEx(image, MORPH_OPEN, new_kernel)\n",
        "    imshow(final, cm.gray)\n",
        "\n",
        "    subplot(1, 4, 3)\n",
        "    dilation = to_dilate(final)\n",
        "    imshow(dilation, cm.gray)\n",
        "    \n",
        "    (contours, _) = findContours(dilation, RETR_EXTERNAL, CHAIN_APPROX_SIMPLE)\n",
        "    print(len(contours))\n",
        "    \n",
        "    for cnt in contours:\n",
        "        x, y, width, height = boundingRect(cnt)\n",
        "        \n",
        "        boundboxes.append(((x, y), (x+width, y+height)))\n",
        "        rectangle(image,(x, y),(x+width, y+height),(255, 255, 255))\n",
        "    \n",
        "    subplot(1, 4, 4)\n",
        "    imshow(image, cm.gray)\n",
        "    \n",
        "    show()\n",
        "    return boundboxes\n",
        "\n",
        "'''標記數字位置(不顯示圖表)'''\n",
        "def get_digits(image):\n",
        "    \n",
        "    boundboxes = []\n",
        "    \n",
        "    image = image.copy()\n",
        "    \n",
        "    kernelSize = (2, 2)\n",
        "    new_kernel = getStructuringElement(MORPH_RECT, kernelSize)\n",
        "    final = morphologyEx(image, MORPH_OPEN, new_kernel)\n",
        "\n",
        "    dilation = to_dilate(final)\n",
        "    \n",
        "    (contours, _) = findContours(dilation, RETR_EXTERNAL, CHAIN_APPROX_SIMPLE)\n",
        "    \n",
        "    for cnt in contours:\n",
        "        x, y, width, height = boundingRect(cnt)\n",
        "        \n",
        "        boundboxes.append(((x, y), (x+width, y+height)))\n",
        "        rectangle(image,(x, y),(x+width, y+height),(255, 255, 255))\n",
        "        \n",
        "    return sorted(boundboxes)"
      ]
    },
    {
      "cell_type": "markdown",
      "source": [
        "用會顯示圖表的函式顯示出效果，要注意，顯示圖表的程式碼功能只會在Notebook上實現，也就是如果你是用python檔案執行的話不會顯示圖表還會錯誤。所以我們也在py檔的版本移除了這個函式。"
      ],
      "metadata": {
        "id": "wI1mTU4R-s6i"
      },
      "id": "wI1mTU4R-s6i"
    },
    {
      "cell_type": "code",
      "execution_count": 41,
      "id": "2f9821d7",
      "metadata": {
        "colab": {
          "base_uri": "https://localhost:8080/",
          "height": 102
        },
        "id": "2f9821d7",
        "outputId": "7a06770f-a5d3-4188-86d9-853926e7341c",
        "scrolled": true
      },
      "outputs": [
        {
          "output_type": "stream",
          "name": "stdout",
          "text": [
            "7\n"
          ]
        },
        {
          "output_type": "display_data",
          "data": {
            "image/png": "[encoded data removed]",
            "text/plain": [
              "<Figure size 432x288 with 4 Axes>"
            ]
          },
          "metadata": {
            "needs_background": "light"
          }
        }
      ],
      "source": [
        "testimg = cp[0][1].copy()\n",
        "test = get_digitsinfo(testimg)"
      ]
    },
    {
      "cell_type": "code",
      "execution_count": 25,
      "id": "3ceca2ed",
      "metadata": {
        "id": "3ceca2ed"
      },
      "outputs": [],
      "source": [
        "def digit_image(image):\n",
        "    \n",
        "    croppedImages = []\n",
        "    \n",
        "    boundboxes = get_digits(image)\n",
        "    \n",
        "    binary = to_binary(image, mode=THRESH_BINARY_INV)\n",
        "    \n",
        "    for b in boundboxes:\n",
        "        \n",
        "        x, y, bwidth, bheight = b[0][0], b[0][1], b[1][0], b[1][1]\n",
        "        \n",
        "        cropImage = binary[y:bheight, x:bwidth]\n",
        "        \n",
        "        croppedImages.append(cropImage)\n",
        "        \n",
        "    return croppedImages"
      ]
    },
    {
      "cell_type": "markdown",
      "source": [
        "測試切割的結果，一樣這種顯示圖表的程式碼我們都在py檔的版本中改掉了。"
      ],
      "metadata": {
        "id": "6Sn_2hpy_Hkv"
      },
      "id": "6Sn_2hpy_Hkv"
    },
    {
      "cell_type": "code",
      "execution_count": 42,
      "id": "e5a7c2af",
      "metadata": {
        "colab": {
          "base_uri": "https://localhost:8080/",
          "height": 266
        },
        "id": "e5a7c2af",
        "outputId": "fb34f834-b4d8-402e-f5ea-3f2fbe627f2b",
        "scrolled": true
      },
      "outputs": [
        {
          "output_type": "display_data",
          "data": {
            "image/png": "[encoded data removed]",
            "text/plain": [
              "<Figure size 432x288 with 7 Axes>"
            ]
          },
          "metadata": {
            "needs_background": "light"
          }
        }
      ],
      "source": [
        "test = digit_image(testimg)\n",
        "\n",
        "for i in range(len(test)):\n",
        "    subplot(1, len(test), i+1)\n",
        "    imshow(test[i], cm.gray)"
      ]
    },
    {
      "cell_type": "code",
      "execution_count": 27,
      "id": "47f842da",
      "metadata": {
        "id": "47f842da"
      },
      "outputs": [],
      "source": [
        "from cv2 import copyMakeBorder, BORDER_CONSTANT, mean, INTER_NEAREST, COLOR_GRAY2BGR\n",
        "from numpy import ceil\n",
        "\n",
        "def to_revision(image):\n",
        "    \n",
        "    height, width = image.shape[:2]\n",
        "    \n",
        "    # 計算長寬差額，用於補充較低者\n",
        "    diff = abs(height-width)/2\n",
        "    extraheight, extrawidth = (0, 0)\n",
        "    \n",
        "    if height > width:\n",
        "        extrawidth = int(ceil(diff))\n",
        "        if extrawidth > diff:\n",
        "            extraheight += 1\n",
        "    \n",
        "    if width > height:\n",
        "        extraheight = int(ceil(diff))\n",
        "        if extraheight > diff:\n",
        "            extrawidth += 1\n",
        "    \n",
        "    # 補充成正方形\n",
        "    border = copyMakeBorder(\n",
        "        image,\n",
        "        top=extraheight,\n",
        "        bottom=extraheight,\n",
        "        left=extrawidth,\n",
        "        right=extrawidth,\n",
        "        borderType=BORDER_CONSTANT,\n",
        "        value=(255, 255, 255)\n",
        "    )\n",
        "\n",
        "    borderlength = max(border.shape[:2])\n",
        "    \n",
        "    # 添加空白外框\n",
        "    bordersize = int(borderlength*(4/borderlength))\n",
        "    border = copyMakeBorder(\n",
        "        border,\n",
        "        top=bordersize,\n",
        "        bottom=bordersize,\n",
        "        left=bordersize,\n",
        "        right=bordersize,\n",
        "        borderType=BORDER_CONSTANT,\n",
        "        value=(255, 255, 255)\n",
        "    )\n",
        "    \n",
        "    border = resize(border, (224, 224), interpolation=INTER_NEAREST)\n",
        "\n",
        "    return cvtColor(border, COLOR_GRAY2BGR)"
      ]
    },
    {
      "cell_type": "markdown",
      "source": [
        "調整完的影像效果，看起來是不是很整齊呢？這也是我們要讓電腦更好進行辨識的方法，而且在TensorFlow的機器模型中也只能用正方形的影像來訓練，所以我們也提供正方形的影像讓機器進行預測。\n",
        "\n",
        "當然！如果你想要用這些處理過的圖片提供給機器模型學習的話也是可以的！我們就是先將這些圖片處理出來之後人工篩選並給機器模型當樣本。"
      ],
      "metadata": {
        "id": "1_IsnGc7_WBe"
      },
      "id": "1_IsnGc7_WBe"
    },
    {
      "cell_type": "code",
      "execution_count": 43,
      "id": "5582a74b",
      "metadata": {
        "colab": {
          "base_uri": "https://localhost:8080/",
          "height": 93
        },
        "id": "5582a74b",
        "outputId": "1d53a19c-5085-4a70-e225-2de60538406b"
      },
      "outputs": [
        {
          "output_type": "display_data",
          "data": {
            "image/png": "[encoded data removed]",
            "text/plain": [
              "<Figure size 432x288 with 7 Axes>"
            ]
          },
          "metadata": {
            "needs_background": "light"
          }
        }
      ],
      "source": [
        "for i in range(len(test)):\n",
        "    subplot(1, len(test), i+1)\n",
        "    imshow(to_revision(test[i]), cm.gray)"
      ]
    },
    {
      "cell_type": "code",
      "execution_count": 29,
      "id": "74b274e5",
      "metadata": {
        "id": "74b274e5"
      },
      "outputs": [],
      "source": [
        "def split_digits(image):\n",
        "    \n",
        "    cp = split_image(image)\n",
        "    \n",
        "    digits = []\n",
        "    for i in range(len(cp)):\n",
        "        temp=[]\n",
        "        for j in range(len(cp[i])):\n",
        "            digtemp=[]\n",
        "            for digit in digit_image(cp[i][j]):\n",
        "                final=to_revision(digit)\n",
        "                digtemp.append(final)\n",
        "            temp.append(digtemp)\n",
        "        digits.append(temp)\n",
        "    \n",
        "    return digits"
      ]
    },
    {
      "cell_type": "markdown",
      "source": [
        "## 辨識與輸出CSV檔"
      ],
      "metadata": {
        "id": "8gDiTfI88MqP"
      },
      "id": "8gDiTfI88MqP"
    },
    {
      "cell_type": "markdown",
      "source": [
        "這裡會讀取`keras_model.h5`機器模型檔案，請在我們的檔案區中下載`keras_model.h5`並放到colab的檔案區中(如果你是用colab執行的話)，或者把下列程式碼`keras_model.h5`的前端加上檔案路徑！例如'D:\\Downloads\\keras_model.h5'。因為反斜線在python裡面被視為程式換行，所以記得在第一個引號前面加上英文字母\"r\"，表示是字串的反斜線。"
      ],
      "metadata": {
        "id": "CHClHKzw8Wfj"
      },
      "id": "CHClHKzw8Wfj"
    },
    {
      "cell_type": "code",
      "execution_count": 32,
      "id": "f10bbc78",
      "metadata": {
        "colab": {
          "base_uri": "https://localhost:8080/"
        },
        "id": "f10bbc78",
        "outputId": "86be5862-f6f7-4d3a-d419-21415fa61b3b"
      },
      "outputs": [
        {
          "output_type": "stream",
          "name": "stdout",
          "text": [
            "WARNING:tensorflow:No training configuration found in the save file, so the model was *not* compiled. Compile it manually.\n"
          ]
        }
      ],
      "source": [
        "from keras.models import load_model\n",
        "from numpy import ndarray, float32, asarray\n",
        "\n",
        "# Load the model\n",
        "model = load_model('keras_model.h5')"
      ]
    },
    {
      "cell_type": "code",
      "execution_count": 33,
      "id": "19aaa7bc",
      "metadata": {
        "id": "19aaa7bc"
      },
      "outputs": [],
      "source": [
        "from numpy import ndarray, float32, asarray\n",
        "\n",
        "def predict(image):\n",
        "    \n",
        "    # Create the array of the right shape to feed into the keras model\n",
        "    # The 'length' or number of images you can put into the array is\n",
        "    # determined by the first position in the shape tuple, in this case 1.\n",
        "    data = ndarray(shape=(1, 224, 224, 3), dtype=float32)\n",
        "\n",
        "    #turn the image into a numpy array\n",
        "    image_array = asarray(image)\n",
        "\n",
        "    # Normalize the image\n",
        "    normalized_image_array = (image_array.astype(float32) / 127.0) - 1\n",
        "\n",
        "    # Load the image into the array\n",
        "    data[0] = normalized_image_array\n",
        "\n",
        "    # run the inference\n",
        "    prediction = model.predict(data)\n",
        "    \n",
        "    return prediction"
      ]
    },
    {
      "cell_type": "markdown",
      "source": [
        "這裡會用上面輸入的影像位置進行文字切割`split_digits`函式，也就是處理完圖片後儲存在`digits`變數上。"
      ],
      "metadata": {
        "id": "ma0wXOpfAMGW"
      },
      "id": "ma0wXOpfAMGW"
    },
    {
      "cell_type": "code",
      "execution_count": 44,
      "id": "bc2e1ad7",
      "metadata": {
        "id": "bc2e1ad7"
      },
      "outputs": [],
      "source": [
        "digits = split_digits(imread(path))"
      ]
    },
    {
      "cell_type": "code",
      "execution_count": 35,
      "id": "219f0ea8",
      "metadata": {
        "id": "219f0ea8"
      },
      "outputs": [],
      "source": [
        "from numpy import argmax\n",
        "\n",
        "def create_prediction_data(digits):\n",
        "    \n",
        "    data = []\n",
        "    \n",
        "    for row in range(len(digits)):\n",
        "        rowData = []\n",
        "        for img in range(len(digits[row])):\n",
        "            strData = ''\n",
        "            for d in range(len(digits[row][img])):\n",
        "                \n",
        "                prediction = predict(digits[row][img][d])\n",
        "                \n",
        "                if prediction.max() > 0.7:\n",
        "                    prediction = argmax(prediction)\n",
        "                    strData += str(prediction if prediction < 10 else '.')\n",
        "                \n",
        "            rowData.append(strData)\n",
        "        \n",
        "        data.append(rowData)\n",
        "        \n",
        "    return data"
      ]
    },
    {
      "cell_type": "code",
      "execution_count": 38,
      "id": "a6b4e172",
      "metadata": {
        "scrolled": true,
        "id": "a6b4e172"
      },
      "outputs": [],
      "source": [
        "from pandas import DataFrame\n",
        "\n",
        "def toCSV(data, fileName):\n",
        "    DataFrame(data).to_csv(fileName, index = False)"
      ]
    },
    {
      "cell_type": "markdown",
      "source": [
        "把剛剛儲存的處理完畢的影像給create_prediction_data函式轉換成辨識完畢的結果，最後再交由toCSV輸出CSV檔，就可以查看辨識結果了，可能會花上不少時間。"
      ],
      "metadata": {
        "id": "FEROMJzLAoLa"
      },
      "id": "FEROMJzLAoLa"
    },
    {
      "cell_type": "code",
      "execution_count": 45,
      "id": "ffc2cd28",
      "metadata": {
        "id": "ffc2cd28"
      },
      "outputs": [],
      "source": [
        "toCSV(create_prediction_data(digits), \"test.csv\")"
      ]
    },
    {
      "cell_type": "code",
      "execution_count": null,
      "id": "19903913",
      "metadata": {
        "scrolled": true,
        "id": "19903913"
      },
      "outputs": [],
      "source": [
        "print(resize(digits[0][0][0], (8, 8)))"
      ]
    }
  ],
  "metadata": {
    "accelerator": "GPU",
    "colab": {
      "collapsed_sections": [],
      "name": "WorkInProgress.ipynb",
      "provenance": []
    },
    "kernelspec": {
      "display_name": "Python 3 (ipykernel)",
      "language": "python",
      "name": "python3"
    },
    "language_info": {
      "codemirror_mode": {
        "name": "ipython",
        "version": 3
      },
      "file_extension": ".py",
      "mimetype": "text/x-python",
      "name": "python",
      "nbconvert_exporter": "python",
      "pygments_lexer": "ipython3",
      "version": "3.9.7"
    }
  },
  "nbformat": 4,
  "nbformat_minor": 5
}